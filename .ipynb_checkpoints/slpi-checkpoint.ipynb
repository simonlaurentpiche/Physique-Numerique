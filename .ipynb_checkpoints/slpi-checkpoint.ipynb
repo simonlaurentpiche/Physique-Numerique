{
 "cells": [
  {
   "cell_type": "markdown",
   "id": "ad2f2b59-c786-4561-8708-9db69455993a",
   "metadata": {},
   "source": [
    "# slpi"
   ]
  }
 ],
 "metadata": {
  "kernelspec": {
   "display_name": "Python 3 (ipykernel)",
   "language": "python",
   "name": "python3"
  },
  "language_info": {
   "codemirror_mode": {
    "name": "ipython",
    "version": 3
   },
   "file_extension": ".py",
   "mimetype": "text/x-python",
   "name": "python",
   "nbconvert_exporter": "python",
   "pygments_lexer": "ipython3",
   "version": "3.10.1"
  }
 },
 "nbformat": 4,
 "nbformat_minor": 5
}
